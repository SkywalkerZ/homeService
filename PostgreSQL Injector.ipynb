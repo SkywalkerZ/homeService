{
 "cells": [
  {
   "cell_type": "code",
   "execution_count": 88,
   "id": "9a7f5bd0",
   "metadata": {},
   "outputs": [],
   "source": [
    "import psycopg2\n",
    "conn = psycopg2.connect(\n",
    "    host='localhost',\n",
    "    dbname= 'HomeServices',\n",
    "    user='postgres',\n",
    "    password='Abraash98!',\n",
    "    port='5432'\n",
    ")\n",
    "\n",
    "cursor = conn.cursor()"
   ]
  },
  {
   "cell_type": "code",
   "execution_count": 89,
   "id": "0960db06",
   "metadata": {},
   "outputs": [],
   "source": [
    "import os\n",
    "import pandas as pd\n",
    " \n"
   ]
  },
  {
   "cell_type": "code",
   "execution_count": 90,
   "id": "8906b939",
   "metadata": {},
   "outputs": [],
   "source": [
    "df = pd.read_csv(r\"C:\\Users\\abraa\\Documents\\Postgres csv files\\customer.csv\")\n",
    "for row in df.itertuples():\n",
    "    cursor.execute(\"INSERT INTO public.customer(first_name,last_name,email_id,phone_no,address1,address2,state,pin_code,customer_rating,last_login,created_at,updated_at) VALUES (%s,%s,%s,%s,%s,%s,%s,%s,%s,%s,%s,%s)\",\n",
    "                              (row.first_name,\n",
    "                              row.last_name,\n",
    "                              row.email_id,\n",
    "                              row.phone_no,\n",
    "                              row.address1,\n",
    "                              row.address2,\n",
    "                              row.state,\n",
    "                              row.pin_code,\n",
    "                              row.customer_rating,\n",
    "                              row.last_login,\n",
    "                              row.created_at,\n",
    "                              row.updated_at))\n",
    "conn.commit()"
   ]
  },
  {
   "cell_type": "code",
   "execution_count": 91,
   "id": "430cb4d9",
   "metadata": {},
   "outputs": [],
   "source": [
    "df = pd.read_csv(r\"C:\\Users\\abraa\\Documents\\Postgres csv files\\employee.csv\")\n",
    "for row in df.itertuples():\n",
    "    cursor.execute(\"INSERT INTO public.employee(first_name,last_name,govt_id,phone_no,employee_rating,created_at,updated_at) VALUES (%s,%s,%s,%s,%s,%s,%s)\",\n",
    "                              (row.first_name,\n",
    "                              row.last_name,\n",
    "                              row.govt_id,\n",
    "                              row.phone_no,\n",
    "                              row.employee_rating,\n",
    "                              row.created_at,\n",
    "                              row.updated_at))\n",
    "conn.commit()"
   ]
  },
  {
   "cell_type": "code",
   "execution_count": 92,
   "id": "d6d12e75",
   "metadata": {},
   "outputs": [],
   "source": [
    "df = pd.read_csv(r\"C:\\Users\\abraa\\Documents\\Postgres csv files\\ordertype.csv\")\n",
    "for row in df.itertuples():\n",
    "    cursor.execute(\"INSERT INTO public.order_Type(orderType_desc,orderType_price) VALUES (%s,%s)\",\n",
    "                              (row.orderType_desc,\n",
    "                              row.orderType_price))\n",
    "conn.commit()"
   ]
  },
  {
   "cell_type": "code",
   "execution_count": 93,
   "id": "bfd7f4eb",
   "metadata": {},
   "outputs": [],
   "source": [
    "df = pd.read_csv(r\"C:\\Users\\abraa\\Documents\\Postgres csv files\\rating.csv\")\n",
    "for row in df.itertuples():\n",
    "    cursor.execute(f\"INSERT INTO public.rating(rating_desc) VALUES ('{row.rating_desc}')\"\n",
    "                              )\n",
    "conn.commit()"
   ]
  },
  {
   "cell_type": "code",
   "execution_count": 94,
   "id": "5f29cb2d",
   "metadata": {},
   "outputs": [],
   "source": [
    "df = pd.read_csv(r\"C:\\Users\\abraa\\Documents\\Postgres csv files\\status.csv\")\n",
    "for row in df.itertuples():\n",
    "    cursor.execute(f\"INSERT INTO public.status(status) VALUES ('{row.status}')\")\n",
    "conn.commit()"
   ]
  },
  {
   "cell_type": "code",
   "execution_count": 95,
   "id": "5a97d084",
   "metadata": {},
   "outputs": [],
   "source": [
    "df = pd.read_csv(r\"C:\\Users\\abraa\\Documents\\Postgres csv files\\orders.csv\")\n",
    "for row in df.itertuples():\n",
    "    cursor.execute(\"INSERT INTO public.orders(customer_id,order_type,employee_id,feedback,status,created_at,updated_at) VALUES (%s,%s,%s,%s,%s,%s,%s)\",\n",
    "                              (row.customer_id,\n",
    "                              row.order_type,\n",
    "                              row.employee_id,\n",
    "                              row.feedback,\n",
    "                              row.status,\n",
    "                              row.created_at,\n",
    "                              row.updated_at))\n",
    "conn.commit()"
   ]
  },
  {
   "cell_type": "code",
   "execution_count": 96,
   "id": "7c879003",
   "metadata": {},
   "outputs": [],
   "source": [
    "cursor.close()\n",
    "conn.close()"
   ]
  },
  {
   "cell_type": "code",
   "execution_count": null,
   "id": "26d255b6",
   "metadata": {},
   "outputs": [],
   "source": []
  }
 ],
 "metadata": {
  "kernelspec": {
   "display_name": "Python 3 (ipykernel)",
   "language": "python",
   "name": "python3"
  },
  "language_info": {
   "codemirror_mode": {
    "name": "ipython",
    "version": 3
   },
   "file_extension": ".py",
   "mimetype": "text/x-python",
   "name": "python",
   "nbconvert_exporter": "python",
   "pygments_lexer": "ipython3",
   "version": "3.9.12"
  }
 },
 "nbformat": 4,
 "nbformat_minor": 5
}
